{
 "cells": [
  {
   "cell_type": "markdown",
   "id": "b4d6a6ce-58f1-4ac6-a6a5-8515f97607a4",
   "metadata": {},
   "source": [
    "# Presentación del Proyecto de Postgrado"
   ]
  },
  {
   "cell_type": "markdown",
   "id": "5335c361-1fda-4757-8a9e-9ff64bb95690",
   "metadata": {},
   "source": [
    "Outline:\n",
    "- [Extracción de datos de Excel](excel_sector_data.ipynb): Se obtienen los datos de la fuente original proporcionada por la ECNA\n",
    "- [Análisis de datos por sectores](sector-data.ipynb): Se analizan los datos extraídos y se preparan para el entrenamiento\n",
    "- [Entrenamiento de modelos](lstm-atfm.ipynb): Se entrenan los modelos LSTM y GRU. Se compara el desempeño de cada modelo"
   ]
  }
 ],
 "metadata": {
  "kernelspec": {
   "display_name": "Python 3",
   "language": "python",
   "name": "python3"
  },
  "language_info": {
   "codemirror_mode": {
    "name": "ipython",
    "version": 3
   },
   "file_extension": ".py",
   "mimetype": "text/x-python",
   "name": "python",
   "nbconvert_exporter": "python",
   "pygments_lexer": "ipython3",
   "version": "3.9.18"
  }
 },
 "nbformat": 4,
 "nbformat_minor": 5
}
